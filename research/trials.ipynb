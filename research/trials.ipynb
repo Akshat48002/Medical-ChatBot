{
 "cells": [
  {
   "cell_type": "code",
   "execution_count": 1,
   "id": "432d406c",
   "metadata": {},
   "outputs": [
    {
     "name": "stdout",
     "output_type": "stream",
     "text": [
      "Hello, world!\n"
     ]
    }
   ],
   "source": [
    "print(\"Hello, world!\")"
   ]
  },
  {
   "cell_type": "code",
   "execution_count": 17,
   "id": "33a45aae",
   "metadata": {},
   "outputs": [],
   "source": [
    "from langchain.prompts import PromptTemplate\n",
    "from langchain.chains import RetrievalQA\n",
    "from langchain_huggingface import HuggingFaceEmbeddings\n",
    "from langchain_community.document_loaders import PyPDFLoader\n",
    "from langchain.text_splitter import RecursiveCharacterTextSplitter\n",
    "from pinecone import Pinecone\n"
   ]
  },
  {
   "cell_type": "code",
   "execution_count": 3,
   "id": "56356307",
   "metadata": {},
   "outputs": [],
   "source": [
    "import os\n",
    "def load_pdf(data):\n",
    "    documents = []\n",
    "    for file in os.listdir(data):\n",
    "        if file.endswith(\".pdf\"):\n",
    "            loader = PyPDFLoader(os.path.join(data, file))\n",
    "            documents.extend(loader.load())\n",
    "    return documents"
   ]
  },
  {
   "cell_type": "code",
   "execution_count": 10,
   "id": "4f8914f5",
   "metadata": {},
   "outputs": [],
   "source": [
    "extracted_data = load_pdf(\"/Users/mac/Medical-ChatBot/data\")"
   ]
  },
  {
   "cell_type": "code",
   "execution_count": 11,
   "id": "3926f1ec",
   "metadata": {},
   "outputs": [],
   "source": [
    "#Create text chunks\n",
    "def text_split(extracted_data):\n",
    "    text_splitter = RecursiveCharacterTextSplitter(chunk_size = 500, chunk_overlap = 20)\n",
    "    text_chunks = text_splitter.split_documents(extracted_data)\n",
    "\n",
    "    return text_chunks"
   ]
  },
  {
   "cell_type": "code",
   "execution_count": 12,
   "id": "288161e1",
   "metadata": {},
   "outputs": [
    {
     "name": "stdout",
     "output_type": "stream",
     "text": [
      "length of my chunk: 5859\n"
     ]
    }
   ],
   "source": [
    "text_chunks = text_split(extracted_data)\n",
    "print(\"length of my chunk:\", len(text_chunks))"
   ]
  },
  {
   "cell_type": "code",
   "execution_count": 13,
   "id": "7bfb7a45",
   "metadata": {},
   "outputs": [],
   "source": [
    "#download embedding model\n",
    "def download_hugging_face_embeddings():\n",
    "    embeddings = HuggingFaceEmbeddings(model_name=\"sentence-transformers/all-MiniLM-L6-v2\")\n",
    "    return embeddings"
   ]
  },
  {
   "cell_type": "code",
   "execution_count": 14,
   "id": "20de6e5b",
   "metadata": {},
   "outputs": [
    {
     "name": "stderr",
     "output_type": "stream",
     "text": [
      "/opt/anaconda3/envs/mchatbot/lib/python3.11/site-packages/tqdm/auto.py:21: TqdmWarning: IProgress not found. Please update jupyter and ipywidgets. See https://ipywidgets.readthedocs.io/en/stable/user_install.html\n",
      "  from .autonotebook import tqdm as notebook_tqdm\n"
     ]
    }
   ],
   "source": [
    "embeddings = download_hugging_face_embeddings()"
   ]
  },
  {
   "cell_type": "code",
   "execution_count": 14,
   "id": "abcdbbae",
   "metadata": {},
   "outputs": [
    {
     "data": {
      "text/plain": [
       "HuggingFaceEmbeddings(model_name='sentence-transformers/all-MiniLM-L6-v2', cache_folder=None, model_kwargs={}, encode_kwargs={}, query_encode_kwargs={}, multi_process=False, show_progress=False)"
      ]
     },
     "execution_count": 14,
     "metadata": {},
     "output_type": "execute_result"
    }
   ],
   "source": [
    "embeddings"
   ]
  },
  {
   "cell_type": "code",
   "execution_count": 19,
   "id": "9f52e5c5",
   "metadata": {},
   "outputs": [],
   "source": [
    "from dotenv import load_dotenv\n",
    "import os\n",
    "\n",
    "load_dotenv()\n",
    "\n",
    "PINECONE_API_KEY = os.getenv(\"PINECONE_API_KEY\")\n"
   ]
  },
  {
   "cell_type": "code",
   "execution_count": 16,
   "id": "3f03038e",
   "metadata": {},
   "outputs": [
    {
     "name": "stdout",
     "output_type": "stream",
     "text": [
      "✅ Documents successfully upserted into Pinecone!\n"
     ]
    }
   ],
   "source": [
    "from langchain_pinecone import PineconeVectorStore\n",
    "\n",
    "index_name = \"medical-chatbot\"\n",
    "# 3. Use LangChain PineconeVectorStore\n",
    "vectorstore = PineconeVectorStore.from_documents(\n",
    "    documents=text_chunks,   # 👈 directly pass your LangChain Documents\n",
    "    embedding=embeddings,\n",
    "    index_name=index_name,\n",
    "    namespace=\"example-namespace\",   # optional\n",
    ")\n",
    "\n",
    "print(\"✅ Documents successfully upserted into Pinecone!\")"
   ]
  },
  {
   "cell_type": "code",
   "execution_count": 18,
   "id": "bb8133a9",
   "metadata": {},
   "outputs": [
    {
     "name": "stdout",
     "output_type": "stream",
     "text": [
      "ID: fe23b8d0-7059-4710-8f62-cac1ad5af890\n",
      "Score: 0.156\n",
      "Page: 37\n",
      "Text: Achromatopsia see Color blindness Acid indigestion see Heartburn Acid phosphatase test Definition Acid phosphatase is an enzyme found throughout the body, but primarily in the prostate gland. Like all enzymes, it is needed to trigger specific chemical reac- tions. Acid phosphatase testing is done to\n",
      "----------------------------------------------------------------------------------------------------\n",
      "ID: 37403d58-2429-433a-84a1-159172fd892d\n",
      "Score: 0.15\n",
      "Page: 348\n",
      "Text: sia, and mixed transcortical aphasia. All of the transcor- tical aphasias are distinguished from other types by the individual’s ability to repeat words, phrases, or sen- tences. Other language functions may also be impaired to varying degrees, depending on the extent and partic- ular location of br\n",
      "----------------------------------------------------------------------------------------------------\n",
      "ID: 1206af05-7b8b-4f54-b4e7-975ca02bf237\n",
      "Score: 0.145\n",
      "Page: 306\n",
      "Text: are seen under the microscope, the test is positive. When the test is positive, the next step is to find out how much antibody is present. The patient’s serum is diluted, or titered, and the test is done again. The serum is then further diluted and the test repeated until the serum is so dilute that\n",
      "----------------------------------------------------------------------------------------------------\n"
     ]
    }
   ],
   "source": [
    "# Define the query\n",
    "query = \"What is Allergies\"\n",
    "# Initialize Pinecone\n",
    "pc = Pinecone()\n",
    "dense_index = pc.Index(index_name)\n",
    "\n",
    "# Search the dense index\n",
    "results = dense_index.search(\n",
    "    namespace=\"example-namespace\",\n",
    "    query={\n",
    "        \"top_k\": 3,\n",
    "        \"inputs\": {\n",
    "            'text': query\n",
    "        }\n",
    "    }\n",
    ")\n",
    "\n",
    "# Print the results\n",
    "# Iterate over Pinecone search results\n",
    "for hit in results.to_dict()[\"result\"][\"hits\"]:\n",
    "    _id = hit.get(\"_id\", \"\")\n",
    "    score = round(hit.get(\"_score\", 3), 3)\n",
    "    fields = hit.get(\"fields\", {})\n",
    "\n",
    "    # Grab the fields you care about\n",
    "    page = fields.get(\"page\", \"\")\n",
    "    page_label = fields.get(\"page_label\", \"\")\n",
    "    text = fields.get(\"text\", \"\").replace(\"\\n\", \" \")[:300]  # truncate to 300 chars\n",
    "\n",
    "    print(f\"ID: {_id}\")\n",
    "    print(f\"Score: {score}\")\n",
    "    print(f\"Page: {page_label or page}\")\n",
    "    print(f\"Text: {text}\")\n",
    "    print(\"-\" * 100)\n",
    "\n",
    "\n"
   ]
  },
  {
   "cell_type": "code",
   "execution_count": 20,
   "id": "f2a7b8f5",
   "metadata": {},
   "outputs": [],
   "source": [
    "prompt_template=\"\"\"\n",
    "Use the following pieces of information to answer the user's question.\n",
    "If you don't know the answer, just say that you don't know, don't try to make up an answer.\n",
    "\n",
    "Context: {context}\n",
    "Question: {question}\n",
    "\n",
    "Only return the helpful answer below and nothing else.\n",
    "Helpful answer:\n",
    "\"\"\""
   ]
  },
  {
   "cell_type": "code",
   "execution_count": 21,
   "id": "76a282fe",
   "metadata": {},
   "outputs": [],
   "source": [
    "PROMPT=PromptTemplate(template=prompt_template, input_variables=[\"context\", \"question\"])\n",
    "chain_type_kwargs={\"prompt\": PROMPT}"
   ]
  },
  {
   "cell_type": "code",
   "execution_count": 26,
   "id": "15327e3a",
   "metadata": {},
   "outputs": [],
   "source": [
    "OPENAI_API_KEY = os.getenv(\"OPENAI_API_KEY\")"
   ]
  },
  {
   "cell_type": "code",
   "execution_count": null,
   "id": "eb503175",
   "metadata": {},
   "outputs": [],
   "source": [
    "from langchain_openai import ChatOpenAI\n",
    "\n",
    "llm = ChatOpenAI(model=\"gpt-3.5-turbo\", temperature=0, openai_api_key=OPENAI_API_KEY)"
   ]
  },
  {
   "cell_type": "code",
   "execution_count": 49,
   "id": "df5f9059",
   "metadata": {},
   "outputs": [],
   "source": [
    "qa=RetrievalQA.from_chain_type(\n",
    "    llm=llm, \n",
    "    chain_type=\"stuff\", \n",
    "    retriever=vectorstore.as_retriever(search_kwargs={\"k\": 2}),\n",
    "    return_source_documents=True, \n",
    "    chain_type_kwargs=chain_type_kwargs)"
   ]
  },
  {
   "cell_type": "code",
   "execution_count": null,
   "id": "8c9dea05",
   "metadata": {},
   "outputs": [],
   "source": [
    "while True:\n",
    "    user_input=input(f\"Input Prompt:\")\n",
    "    result=qa({\"query\": user_input})\n",
    "    print(\"Response : \", result[\"result\"])"
   ]
  },
  {
   "cell_type": "code",
   "execution_count": null,
   "id": "278cba17",
   "metadata": {},
   "outputs": [],
   "source": []
  }
 ],
 "metadata": {
  "kernelspec": {
   "display_name": "mchatbot",
   "language": "python",
   "name": "python3"
  },
  "language_info": {
   "codemirror_mode": {
    "name": "ipython",
    "version": 3
   },
   "file_extension": ".py",
   "mimetype": "text/x-python",
   "name": "python",
   "nbconvert_exporter": "python",
   "pygments_lexer": "ipython3",
   "version": "3.11.9"
  }
 },
 "nbformat": 4,
 "nbformat_minor": 5
}
